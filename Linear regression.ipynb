{
  "cells": [
    {
      "cell_type": "markdown",
      "metadata": {
        "id": "Uu2R-g6PPeBM"
      },
      "source": [
        "# QUESTION 1\n"
      ]
    },
    {
      "cell_type": "code",
      "execution_count": null,
      "metadata": {
        "id": "J1eXoBCbPwh-"
      },
      "outputs": [],
      "source": [
        "import numpy as np  #importing numpy\n",
        "lambda_=0.01\n",
        "def data_matrix(n_samples, d_dimension):\n",
        "  x= np.random.randn(n_samples, d_dimension) #creating data matrix with random values from normal distribution of size n_samples x d_dimension\n",
        "  return x"
      ]
    },
    {
      "cell_type": "markdown",
      "metadata": {
        "id": "-AooBv_gQHcs"
      },
      "source": [
        "# QUESTION 2"
      ]
    },
    {
      "cell_type": "code",
      "execution_count": null,
      "metadata": {
        "id": "RUSYnf7aQOv0"
      },
      "outputs": [],
      "source": [
        "def generate_t(x,w,noise_var):  #Here the w vector includes the bias term w0\n",
        "  x= np.array(x)\n",
        "  n= np.shape(x)[0]\n",
        "  d= np.shape(x)[1]\n",
        "  noise= np.random.normal(0, np.sqrt(noise_var), x.shape[0]).reshape((n,1)) #generating noise of given noise variance from a normal distribution\n",
        "  c = np.ones((n,1))\n",
        "  x = np.concatenate((x,c),axis=1)  #adding an extra column of ones to x\n",
        "  t = np.dot(x,w)+ noise\n",
        "  return t"
      ]
    },
    {
      "cell_type": "code",
      "execution_count": null,
      "metadata": {
        "colab": {
          "base_uri": "https://localhost:8080/"
        },
        "id": "v8ULPWQEuwrU",
        "outputId": "0e1d5c09-7480-45df-872b-573e099a06f4"
      },
      "outputs": [
        {
          "output_type": "stream",
          "name": "stdout",
          "text": [
            "[[2.74192084]\n",
            " [6.52359286]\n",
            " [9.34418062]]\n"
          ]
        }
      ],
      "source": [
        "x1=[[1,1,1],[2,2,2],[3,3,3]]\n",
        "w1=np.empty((4,1))\n",
        "w1.fill(1)\n",
        "n_varaince=1.5\n",
        "t= generate_t(x1,w1,n_varaince)\n",
        "print(t)"
      ]
    },
    {
      "cell_type": "markdown",
      "metadata": {
        "id": "duq4XvHnQPu9"
      },
      "source": [
        "# QUESTION 3"
      ]
    },
    {
      "cell_type": "code",
      "execution_count": null,
      "metadata": {
        "id": "uyUouhQUblov"
      },
      "outputs": [],
      "source": [
        "def lin_reg_y(x,w):\n",
        "  n= np.shape(x)[0]\n",
        "  d= np.shape(x)[1]\n",
        "  c = np.ones((n,1))\n",
        "  aug_x = np.concatenate((x,c),axis=1)\n",
        "  y = aug_x.dot(w)   #Linear regression model y=x.w\n",
        "  return y "
      ]
    },
    {
      "cell_type": "code",
      "execution_count": null,
      "metadata": {
        "colab": {
          "base_uri": "https://localhost:8080/"
        },
        "id": "w9Q3d9jIe0V1",
        "outputId": "1adf1b1d-d909-428b-f05e-aa62fd947ce8"
      },
      "outputs": [
        {
          "output_type": "stream",
          "name": "stdout",
          "text": [
            "[[ 4.]\n",
            " [ 7.]\n",
            " [10.]]\n"
          ]
        }
      ],
      "source": [
        "x2=[[1,1,1],[2,2,2],[3,3,3]]\n",
        "w2=np.empty((4,1))\n",
        "w2.fill(1)\n",
        "y2= lin_reg_y(x2,w2)\n",
        "print(y2)"
      ]
    },
    {
      "cell_type": "markdown",
      "metadata": {
        "id": "5zkEGB2PQRA8"
      },
      "source": [
        "# QUESTION 4"
      ]
    },
    {
      "cell_type": "code",
      "execution_count": null,
      "metadata": {
        "id": "T-wShDrsQSIs"
      },
      "outputs": [],
      "source": [
        "from sklearn.metrics import mean_squared_error\n",
        "def mse_error(t,y):\n",
        "  mse= mean_squared_error(t, y)  #mse error is calculated by 1/n*sigma(t-y)^2\n",
        "  return mse"
      ]
    },
    {
      "cell_type": "code",
      "execution_count": null,
      "metadata": {
        "colab": {
          "base_uri": "https://localhost:8080/"
        },
        "id": "l80eeTPwfr-Y",
        "outputId": "6e6a55fd-c0e8-4358-cea4-82372d62bd2d"
      },
      "outputs": [
        {
          "output_type": "stream",
          "name": "stdout",
          "text": [
            "1.0\n"
          ]
        }
      ],
      "source": [
        "t3=np.ones((6,1))\n",
        "y3= np.empty((6,1))\n",
        "y3.fill(2)\n",
        "mserror= mse_error(t3,y3)\n",
        "print(mserror)"
      ]
    },
    {
      "cell_type": "markdown",
      "metadata": {
        "id": "mJjUoHhZQStU"
      },
      "source": [
        "# QUESTION 5"
      ]
    },
    {
      "cell_type": "code",
      "execution_count": null,
      "metadata": {
        "id": "if4_IV0dh_D7"
      },
      "outputs": [],
      "source": [
        "from numpy.linalg import inv\n",
        "from numpy.linalg import multi_dot\n",
        "def est_weight_vector(x,t,lambda_):\n",
        "  x= np.array(x)\n",
        "  n= np.shape(x)[0]\n",
        "  d= np.shape(x)[1]\n",
        "  aug_x= np.concatenate((x,np.ones((n,1))),axis=1)\n",
        "  transpose_aug_x= np.transpose(aug_x)\n",
        "  ident= np.identity(d+1)\n",
        "  z= lambda_*ident + np.dot(transpose_aug_x, aug_x) \n",
        "  z= inv(z)                               \n",
        "  w= multi_dot([z, transpose_aug_x, t])   # w=inverse((λI + transpose(x).x)).transpose(x).t\n",
        "  \n",
        "  y= lin_reg_y(x,w)\n",
        "  \n",
        "  mse= mean_squared_error(t, y)\n",
        "  \n",
        "  return w,mse,y"
      ]
    },
    {
      "cell_type": "code",
      "execution_count": null,
      "metadata": {
        "colab": {
          "base_uri": "https://localhost:8080/"
        },
        "id": "QfNCk_eAgRkb",
        "outputId": "aa9f55e4-1c66-4fb7-e172-ee1a5f824c13"
      },
      "outputs": [
        {
          "output_type": "stream",
          "name": "stdout",
          "text": [
            "(array([[0.00325201],\n",
            "       [0.00325201],\n",
            "       [0.00325201],\n",
            "       [0.97723048]]), 7.406448748555804e-05, array([[0.98698652],\n",
            "       [0.99674257],\n",
            "       [1.00649861]]))\n"
          ]
        }
      ],
      "source": [
        "t4=np.ones((3,1))\n",
        "arr4= est_weight_vector(x2,t4,lambda_)\n",
        "print(arr4)"
      ]
    },
    {
      "cell_type": "markdown",
      "metadata": {
        "id": "MtXybTRNjbeO"
      },
      "source": [
        "# QUESTION 6"
      ]
    },
    {
      "cell_type": "code",
      "execution_count": null,
      "metadata": {
        "id": "no5Zmsbyjcmo"
      },
      "outputs": [],
      "source": [
        "def grad_mse_w(x,t,w):\n",
        "  x=np.array(x)\n",
        "  w=np.array(w)\n",
        "  n= np.shape(x)[0]\n",
        "  d= np.shape(x)[1]\n",
        "  aug_x= np.concatenate((x,np.ones((n,1))),axis=1)\n",
        "  transpose_aug_x= np.transpose(aug_x)\n",
        "  y= np.dot(aug_x,w)\n",
        "  z= np.subtract(y,t)                          #z = y-t\n",
        "  gradient_vector= np.dot(transpose_aug_x,z)*2  #grad_mse = transpose(x).(z)\n",
        "  gradient_vector= gradient_vector/n\n",
        "  return gradient_vector"
      ]
    },
    {
      "cell_type": "code",
      "execution_count": null,
      "metadata": {
        "colab": {
          "base_uri": "https://localhost:8080/"
        },
        "id": "r1JEWn16lH-M",
        "outputId": "bc6c2267-0e83-43ff-96c6-7f9f723e3c12"
      },
      "outputs": [
        {
          "output_type": "stream",
          "name": "stdout",
          "text": [
            "[[28.]\n",
            " [28.]\n",
            " [28.]\n",
            " [12.]]\n"
          ]
        }
      ],
      "source": [
        "x4=[[1,1,1],[2,2,2],[3,3,3]]\n",
        "t5=np.ones((3,1))\n",
        "w5=np.ones((4,1))\n",
        "grad_vector1= grad_mse_w(x4,t5,w5)\n",
        "print(grad_vector1)"
      ]
    },
    {
      "cell_type": "markdown",
      "metadata": {
        "id": "8g06DlZYjdcx"
      },
      "source": [
        "# QUESTION 7"
      ]
    },
    {
      "cell_type": "code",
      "execution_count": null,
      "metadata": {
        "id": "IAZ4hCPljflB"
      },
      "outputs": [],
      "source": [
        "def L2_norm(w):\n",
        "  w=np.array(w)\n",
        "  n= np.shape(w)[0]\n",
        "  w_exclude_w0= np.delete(w,n-1,axis=0)\n",
        "  L2= np.linalg.norm(w_exclude_w0, ord=2) #calculating L2 norm\n",
        "  return L2"
      ]
    },
    {
      "cell_type": "code",
      "execution_count": null,
      "metadata": {
        "colab": {
          "base_uri": "https://localhost:8080/"
        },
        "id": "_PCbKVGSnIIN",
        "outputId": "4fff1c14-0dcf-4a6b-d32b-5132ed1f433c"
      },
      "outputs": [
        {
          "output_type": "stream",
          "name": "stdout",
          "text": [
            "1.7320508075688772\n"
          ]
        }
      ],
      "source": [
        "w7= np.ones((4,1))\n",
        "L27= L2_norm(w7)\n",
        "print(L27)"
      ]
    },
    {
      "cell_type": "markdown",
      "metadata": {
        "id": "Xgg6vhd0jd4p"
      },
      "source": [
        "# QUESTION 8"
      ]
    },
    {
      "cell_type": "code",
      "execution_count": null,
      "metadata": {
        "id": "oLbVAz8PjgW9"
      },
      "outputs": [],
      "source": [
        "def grad_L2norm_w(w):\n",
        "  w=np.array(w)\n",
        "  n= np.shape(w)[0]\n",
        "  w_exclude_w0= np.delete(w,n-1,axis=0)\n",
        "  L2= L2_norm(w_exclude_w0)   #calculating L2 norm\n",
        "  coff= pow(L2,-3)\n",
        "  grad_L2_exc_w0= coff*w_exclude_w0  #calculating gradient of L2 norm\n",
        "  grad_L2= np.concatenate((grad_L2_exc_w0, [[0]]), axis=0)\n",
        "  return grad_L2"
      ]
    },
    {
      "cell_type": "code",
      "execution_count": null,
      "metadata": {
        "colab": {
          "base_uri": "https://localhost:8080/"
        },
        "id": "9eUcCLMGquN8",
        "outputId": "98b4ea1d-b322-4bde-bd06-062982025a40"
      },
      "outputs": [
        {
          "output_type": "stream",
          "name": "stdout",
          "text": [
            "[[0.35355339]\n",
            " [0.35355339]\n",
            " [0.35355339]\n",
            " [0.        ]]\n"
          ]
        }
      ],
      "source": [
        "w8= np.ones((4,1))\n",
        "print( grad_L2norm_w(w8))\n"
      ]
    },
    {
      "cell_type": "markdown",
      "metadata": {
        "id": "lmiyrHfyjeVi"
      },
      "source": [
        "# QUESTION 9"
      ]
    },
    {
      "cell_type": "code",
      "execution_count": null,
      "metadata": {
        "id": "nWv_o5XbjhCi"
      },
      "outputs": [],
      "source": [
        "def L1norm(w):\n",
        "  w=np.array(w)\n",
        "  n= np.shape(w)[0]\n",
        "  w_exclude_w0= np.delete(w,n-1,axis=0)\n",
        "  L1=np.linalg.norm(w_exclude_w0, ord=1)  #calculating L1 norm\n",
        "  return L1"
      ]
    },
    {
      "cell_type": "code",
      "execution_count": null,
      "metadata": {
        "colab": {
          "base_uri": "https://localhost:8080/"
        },
        "id": "D8xfATtarMEu",
        "outputId": "479e93d8-934b-4da6-f6c8-c9c9d4ddd987"
      },
      "outputs": [
        {
          "output_type": "stream",
          "name": "stdout",
          "text": [
            "4.0\n"
          ]
        }
      ],
      "source": [
        "w9= np.ones((5,1))\n",
        "print(L1norm(w9))"
      ]
    },
    {
      "cell_type": "markdown",
      "metadata": {
        "id": "yeNDA3stFjAP"
      },
      "source": [
        "# QUESTION 10"
      ]
    },
    {
      "cell_type": "code",
      "execution_count": null,
      "metadata": {
        "id": "-a6vgJsHFm_1"
      },
      "outputs": [],
      "source": [
        "def grad_L1norm_w(w):\n",
        "  w=np.array(w)\n",
        "  n= np.shape(w)[0]\n",
        "  w_exclude_w0= np.delete(w,n-1,axis=0)\n",
        "  grad_L1_exc_w0= np.sign(w_exclude_w0)  #using sign function to calculate gradient of L1 norm\n",
        "  grad_L1= np.concatenate((grad_L1_exc_w0, [[0]]), axis=0)\n",
        "  return grad_L1"
      ]
    },
    {
      "cell_type": "code",
      "execution_count": null,
      "metadata": {
        "colab": {
          "base_uri": "https://localhost:8080/"
        },
        "id": "tYQ2TXbsrvAJ",
        "outputId": "6173af92-a9d1-4018-8b4a-4d3fca872229"
      },
      "outputs": [
        {
          "output_type": "stream",
          "name": "stdout",
          "text": [
            "[[-1.]\n",
            " [ 1.]\n",
            " [ 1.]\n",
            " [ 0.]]\n"
          ]
        }
      ],
      "source": [
        "w10= np.empty((4,1))\n",
        "w10[1]=1\n",
        "w10[2]=1\n",
        "w10[0]=-1\n",
        "w10[3]=-1\n",
        "print(grad_L1norm_w(w10))"
      ]
    },
    {
      "cell_type": "markdown",
      "metadata": {
        "id": "i2vaJFgPFngk"
      },
      "source": [
        "# QUESTION 11"
      ]
    },
    {
      "cell_type": "code",
      "execution_count": null,
      "metadata": {
        "id": "RyCai8i1FoUW"
      },
      "outputs": [],
      "source": [
        "def upd_weight(x,t,w,eta,lambda2,lambda1):\n",
        "  w= np.array(w)\n",
        "  n=np.shape(w)[0]\n",
        "  grad_mse= grad_mse_w(x,t,w)\n",
        "  grad_L2= lambda2*grad_L2norm_w(w)\n",
        "  grad_L1= lambda1*grad_L1norm_w(w)\n",
        "  L= np.add(grad_L1, grad_L2)\n",
        "  z= eta*np.add(grad_mse,L)  #z= eta(gradient of mse+ lambda1*gradient of L1 norm+ lambda2*gradient of L2 norm)\n",
        "  upd_w= np.subtract(w, z)  # w'= w-eta(gradient of mse+ lambda1*gradient of L1 norm+ lambda2*gradient of L2 norm)\n",
        "  y= lin_reg_y(x,upd_w)     #y is now calculated by using the updated w vector\n",
        "  upd_mse= mse_error(t,y)   #mse error is calculated\n",
        "  return upd_w,upd_mse"
      ]
    },
    {
      "cell_type": "code",
      "execution_count": null,
      "metadata": {
        "colab": {
          "base_uri": "https://localhost:8080/"
        },
        "id": "kjBKVzLyufVY",
        "outputId": "72fb7de8-31be-4fb6-bae4-56d2cd55164e"
      },
      "outputs": [
        {
          "output_type": "stream",
          "name": "stdout",
          "text": [
            "(array([[-0.40085355],\n",
            "       [-0.40085355],\n",
            "       [-0.40085355],\n",
            "       [ 0.4       ]]), 9.994855577578617)\n"
          ]
        }
      ],
      "source": [
        "x11=[[1,1,1],[2,2,2],[3,3,3]]\n",
        "t11= np.ones((3,1))\n",
        "w11= np.ones((4,1))\n",
        "eta11=0.05\n",
        "lambda111=0.01\n",
        "lambda211=0.02\n",
        "print(upd_weight(x11,t11,w11,eta11,lambda211,lambda111))"
      ]
    },
    {
      "cell_type": "markdown",
      "metadata": {
        "id": "8mI1p_cSFoug"
      },
      "source": [
        "# QUESTION 12"
      ]
    },
    {
      "cell_type": "code",
      "execution_count": null,
      "metadata": {
        "id": "y3qmQ76NFpZh"
      },
      "outputs": [],
      "source": [
        "def grad_descent(x,t,eta,max_iter,min_change_NRMSE,lambda2=0,lambda1=0):\n",
        "  d=np.shape(x)[1]\n",
        "  w=np.random.rand(d+1,1)\n",
        "  std_t= np.std(t)\n",
        "  old_NRMSE=0\n",
        "  NRMSE=0\n",
        "\n",
        "  for i in range(0,int(max_iter)):\n",
        "    arr= upd_weight(x,t,w,eta,lambda2,lambda1)\n",
        "    upd_w= arr[0]\n",
        "    upd_mse= arr[1]\n",
        "    NRMSE= np.sqrt(upd_mse)/std_t\n",
        "    if(NRMSE - old_NRMSE<= min_change_NRMSE):\n",
        "       break;                 #stopping the loop when minimum change in NRMSE value is reached\n",
        "    old_NRMSE= NRMSE\n",
        "  return upd_w, NRMSE"
      ]
    },
    {
      "cell_type": "code",
      "execution_count": null,
      "metadata": {
        "colab": {
          "base_uri": "https://localhost:8080/"
        },
        "id": "EmZs2BSA1mxa",
        "outputId": "10d1d93f-ef07-4a7c-9d9b-4b4c4e8bfad5"
      },
      "outputs": [
        {
          "output_type": "stream",
          "name": "stdout",
          "text": [
            "[[ 0.16880633]\n",
            " [-0.05886984]\n",
            " [-0.28228304]\n",
            " [-0.17449146]] 1.145545366967147\n"
          ]
        }
      ],
      "source": [
        "x12=[[1,1,1],[2,2,2],[3,3,3]]\n",
        "t12=np.empty((3,1))\n",
        "t12[0]=2\n",
        "t12[1]=5\n",
        "t12[1]=7\n",
        "w12= np.ones((4,1))\n",
        "eta12=0.05\n",
        "max_iter12=100\n",
        "min_change_NRMSE12=0.4\n",
        "lambda212=0.02\n",
        "lambda112=0.01\n",
        "arr=grad_descent(x12,t12,eta12,max_iter12,min_change_NRMSE12,lambda212,lambda112)\n",
        "upd_w= arr[0]\n",
        "NRMSE= arr[1]\n",
        "print (upd_w, NRMSE)"
      ]
    },
    {
      "cell_type": "markdown",
      "metadata": {
        "id": "OK-SBwoHZIQk"
      },
      "source": [
        "# QUESTION 13"
      ]
    },
    {
      "cell_type": "code",
      "execution_count": null,
      "metadata": {
        "id": "wSPW8ryseDhO"
      },
      "outputs": [],
      "source": [
        "#impoting the required libraries\n",
        "import matplotlib.pyplot as plt\n",
        "from sklearn.model_selection import train_test_split\n",
        "import pandas as pd\n",
        "import time"
      ]
    },
    {
      "cell_type": "code",
      "execution_count": null,
      "metadata": {
        "id": "rAdgHlWlZI45"
      },
      "outputs": [],
      "source": [
        "\n",
        "#13a\n",
        "d= 20\n",
        "np.random.seed(50)\n",
        "weights= np.random.rand(d+1,1) # randomly generating weights(including the bias term) of shape 20x1\n",
        "w0= weights[d]\n",
        "noise_var=1.5\n",
        "\n",
        "n= [100,1000,10000,100000,1000000]   #array of different number of samples\n",
        "d_NRMSE_train= {}  #creating dictionary with keys as number of samples to store NRMSE of training data\n",
        "d_NRMSE_vald= {}   #creating dictionary with keys as number of samples to store NRMSE of validation data\n",
        "for i in n:\n",
        "    d_NRMSE_train[i] = None\n",
        "    d_NRMSE_vald[i]= None\n",
        "#calculating NRMSE values of a specific n(no of samples) of different seeds\n",
        "for num_samples in n:\n",
        "  NRMSE_train1= []\n",
        "  NRMSE_vald1= []\n",
        "  for i in range (9): \n",
        "    np.random.seed(i)                  #taking different seeds\n",
        "    x = data_matrix(num_samples,d)     #generating data matrixes of shape num_samplesxd\n",
        "    t = generate_t(x,weights,noise_var) #generating target vectors\n",
        "    #splitting the data matrixes and target vectors to training and validation\n",
        "    x_train, x_vald, t_train, t_vald= train_test_split(x,t,test_size=0.2,shuffle=True,random_state=8) \n",
        "    \n",
        "    std_t_train= np.std(t_train)   #standard deviation of t vector\n",
        "    arr1= est_weight_vector(x_train,t_train,lambda_) #estimating weight vector by using x train and t train\n",
        "    w_est= arr1[0]\n",
        "\n",
        "    NRMSE_train= np.sqrt(arr1[1])/std_t_train  #NRMSE= sqrt(mse)/std of t, here arr[1] gives mse\n",
        "    NRMSE_train1.append(NRMSE_train)    #storing NRMSE values of all seeds of a n in an array\n",
        "\n",
        "    \n",
        "    std_t_vald= np.std(t_vald)\n",
        "\n",
        "    y_vald= lin_reg_y(x_vald,w_est)   #creating y validation by using x validation and estimated weight vector(which is calculated by using x_train and t_train)\n",
        "    mse_vald= mse_error(t_vald,y_vald)\n",
        "\n",
        "    NRMSE_vald= np.sqrt(mse_vald)/std_t_vald\n",
        "    NRMSE_vald1.append(NRMSE_vald)  #storing NRMSE of validation data of all seeeds of a n in an array\n",
        "    \n",
        "  d_NRMSE_train[num_samples]= NRMSE_train1 #storing NRMSE of traning data of a particular n in a dictionary\n",
        "  d_NRMSE_vald[num_samples]= NRMSE_vald1  #storung NRMSE of validation data of a particular n in a dictionary"
      ]
    },
    {
      "cell_type": "code",
      "execution_count": null,
      "metadata": {
        "id": "l6tBNjO-AVCy"
      },
      "outputs": [],
      "source": [
        "df_train= pd.DataFrame.from_dict(d_NRMSE_train)\n",
        "df_vald= pd.DataFrame.from_dict(d_NRMSE_vald)"
      ]
    },
    {
      "cell_type": "code",
      "execution_count": null,
      "metadata": {
        "colab": {
          "base_uri": "https://localhost:8080/",
          "height": 459
        },
        "id": "8ZICZaiFE16k",
        "outputId": "6ecc4515-b1be-4495-db34-56ef4f270d24"
      },
      "outputs": [
        {
          "data": {
            "text/plain": [
              "Text(0, 0.5, 'NRMSE_train')"
            ]
          },
          "execution_count": 25,
          "metadata": {},
          "output_type": "execute_result"
        },
        {
          "data": {
            "image/png": "[encoded data removed]",
            "text/plain": [
              "<Figure size 576x504 with 1 Axes>"
            ]
          },
          "metadata": {},
          "output_type": "display_data"
        }
      ],
      "source": [
        "df_train.boxplot(column=[100,1000,10000,100000,1000000],figsize=(8,7))\n",
        "plt.xlabel(\"no of samples\")\n",
        "plt.ylabel(\"NRMSE_train\")"
      ]
    },
    {
      "cell_type": "code",
      "execution_count": null,
      "metadata": {
        "colab": {
          "base_uri": "https://localhost:8080/",
          "height": 459
        },
        "id": "9polucyp5WjJ",
        "outputId": "db91e2d3-71fa-4a57-8a44-51665d686c09"
      },
      "outputs": [
        {
          "data": {
            "text/plain": [
              "Text(0, 0.5, 'NRMSE_vald')"
            ]
          },
          "execution_count": 26,
          "metadata": {},
          "output_type": "execute_result"
        },
        {
          "data": {
            "image/png": "[encoded data removed]",
            "text/plain": [
              "<Figure size 576x504 with 1 Axes>"
            ]
          },
          "metadata": {},
          "output_type": "display_data"
        }
      ],
      "source": [
        "df_vald.boxplot(column=[100,1000,10000,100000,1000000],figsize=(8,7))\n",
        "plt.xlabel(\"no of samples\")\n",
        "plt.ylabel(\"NRMSE_vald\")"
      ]
    },
    {
      "cell_type": "code",
      "execution_count": null,
      "metadata": {
        "id": "iW9TY5NtsOjS"
      },
      "outputs": [],
      "source": [
        "#13b\n",
        "noise_var= 1.5\n",
        "dim =[10,15,20,25,30,35]  # taking different feature dimensions\n",
        "d_weights={}\n",
        "for j in dim:\n",
        "  np.random.seed(j)\n",
        "  d_weights[j]=np.random.rand(j+1,1)\n",
        "n1= 1000\n",
        "d_NRMSE_train_b= {}\n",
        "d_NRMSE_vald_b= {}\n",
        "for i in dim:\n",
        "    d_NRMSE_train_b[i] = None\n",
        "    d_NRMSE_vald_b[i]= None\n",
        "\n",
        "for j in dim:\n",
        "  NRMSE_train1= []\n",
        "  NRMSE_vald1= []\n",
        "  for i in range (9):\n",
        "    np.random.seed(i)\n",
        "    x = data_matrix(n1,j)\n",
        "    t = generate_t(x,d_weights[j],noise_var)\n",
        "    x_train, x_vald, t_train, t_vald= train_test_split(x,t,test_size=0.3)\n",
        "    std_t_train= np.std(t_train)\n",
        "    arr1= est_weight_vector(x_train,t_train,lambda_)\n",
        "    w_est= arr1[0]\n",
        "    \n",
        "    NRMSE_train= np.sqrt(arr1[1])/std_t_train\n",
        "    NRMSE_train1.append(NRMSE_train)\n",
        "   \n",
        "    std_t_vald= np.std(t_vald)\n",
        "\n",
        "    y_vald= lin_reg_y(x_vald,w_est)\n",
        "    mse_vald= mse_error(t_vald,y_vald)\n",
        "\n",
        "    NRMSE_vald= np.sqrt(mse_vald)/std_t_vald\n",
        "    NRMSE_vald1.append(NRMSE_vald)\n",
        "    \n",
        "  d_NRMSE_train_b[j]= NRMSE_train1 #storing NRMSE of x train of a particular dimension into a dictionary\n",
        "  d_NRMSE_vald_b[j]= NRMSE_vald1  #stpring NRMSE of x vald of a particul\n"
      ]
    },
    {
      "cell_type": "code",
      "execution_count": null,
      "metadata": {
        "id": "lggw30P1cO1x"
      },
      "outputs": [],
      "source": [
        "df_train_b= pd.DataFrame.from_dict(d_NRMSE_train_b)\n",
        "df_vald_b= pd.DataFrame.from_dict(d_NRMSE_vald_b)"
      ]
    },
    {
      "cell_type": "code",
      "execution_count": null,
      "metadata": {
        "colab": {
          "base_uri": "https://localhost:8080/",
          "height": 459
        },
        "id": "L231cqL96PR5",
        "outputId": "b351dba3-eb1e-4cab-88ce-81566430a8e3"
      },
      "outputs": [
        {
          "data": {
            "text/plain": [
              "Text(0, 0.5, 'NRMSE_train')"
            ]
          },
          "execution_count": 33,
          "metadata": {},
          "output_type": "execute_result"
        },
        {
          "data": {
            "image/png": "[encoded data removed]",
            "text/plain": [
              "<Figure size 576x504 with 1 Axes>"
            ]
          },
          "metadata": {},
          "output_type": "display_data"
        }
      ],
      "source": [
        "df_train_b.boxplot(column=[10,15,20,25,30,35], figsize=(8,7))\n",
        "plt.xlabel(\"no of variables\")\n",
        "plt.ylabel(\"NRMSE_train\")"
      ]
    },
    {
      "cell_type": "code",
      "execution_count": null,
      "metadata": {
        "colab": {
          "base_uri": "https://localhost:8080/",
          "height": 459
        },
        "id": "XNgqahUyc051",
        "outputId": "3d8122b4-fb65-4183-c7f5-1146d1701fec"
      },
      "outputs": [
        {
          "data": {
            "text/plain": [
              "Text(0, 0.5, 'NRMSE_vald')"
            ]
          },
          "execution_count": 34,
          "metadata": {},
          "output_type": "execute_result"
        },
        {
          "data": {
            "image/png": "[encoded data removed]",
            "text/plain": [
              "<Figure size 576x504 with 1 Axes>"
            ]
          },
          "metadata": {},
          "output_type": "display_data"
        }
      ],
      "source": [
        "df_vald_b.boxplot(column=[10,15,20,25,30,35], figsize=(8,7))\n",
        "plt.xlabel(\"No of variables\") \n",
        "plt.ylabel(\"NRMSE_vald\")   "
      ]
    },
    {
      "cell_type": "code",
      "execution_count": null,
      "metadata": {
        "id": "-KCUVITra1MK"
      },
      "outputs": [],
      "source": [
        "#13c\n",
        "noise_variance=[0.1,0.2,0.3,0.4,0.5,0.6,0.7,0.8,0.9]\n",
        "n1= 1000\n",
        "np.random.seed(100)\n",
        "dimc= 20\n",
        "weights_c= np.random.rand(dimc+1,1)\n",
        "d_NRMSE_train_c= {}\n",
        "d_NRMSE_vald_c= {}\n",
        "for i in noise_variance:\n",
        "    d_NRMSE_train_c[i] = None\n",
        "    d_NRMSE_vald_c[i]= None\n",
        "\n",
        "for j in noise_variance:\n",
        "  NRMSE_train1= []\n",
        "  NRMSE_vald1= []\n",
        "  for i in range (9):\n",
        "    np.random.seed(i)\n",
        "    x = data_matrix(n1,dimc)\n",
        "    t = generate_t(x,weights_c,j)\n",
        "    x_train, x_vald, t_train, t_vald= train_test_split(x,t,test_size=0.3)\n",
        "    std_t_train= np.std(t_train)\n",
        "    arr1= est_weight_vector(x_train,t_train,lambda_)\n",
        "    w_est= arr1[0]\n",
        "\n",
        "    NRMSE_train= np.sqrt(arr1[1])/std_t_train\n",
        "    NRMSE_train1.append(NRMSE_train)\n",
        "   \n",
        "    std_t_vald= np.std(t_vald)\n",
        "\n",
        "    y_vald= lin_reg_y(x_vald,w_est)\n",
        "    mse_vald= mse_error(t_vald,y_vald)\n",
        "\n",
        "    NRMSE_vald= np.sqrt(mse_vald)/std_t_vald\n",
        "    NRMSE_vald1.append(NRMSE_vald)\n",
        "    \n",
        "  d_NRMSE_train_c[j]= NRMSE_train1\n",
        "  d_NRMSE_vald_c[j]= NRMSE_vald1\n"
      ]
    },
    {
      "cell_type": "code",
      "execution_count": null,
      "metadata": {
        "id": "bJqhTcs2a1v_"
      },
      "outputs": [],
      "source": [
        "df_train_c= pd.DataFrame.from_dict(d_NRMSE_train_c)\n",
        "df_vald_c=pd.DataFrame.from_dict(d_NRMSE_vald_c)"
      ]
    },
    {
      "cell_type": "code",
      "execution_count": null,
      "metadata": {
        "colab": {
          "base_uri": "https://localhost:8080/",
          "height": 459
        },
        "id": "OsIHom_Wa2Iv",
        "outputId": "72bfb289-a5ed-45dd-f674-9f475fc34e45"
      },
      "outputs": [
        {
          "data": {
            "text/plain": [
              "Text(0, 0.5, 'NRMSE_train')"
            ]
          },
          "execution_count": 37,
          "metadata": {},
          "output_type": "execute_result"
        },
        {
          "data": {
            "image/png": "[encoded data removed]",
            "text/plain": [
              "<Figure size 576x504 with 1 Axes>"
            ]
          },
          "metadata": {},
          "output_type": "display_data"
        }
      ],
      "source": [
        "df_train_c.boxplot(column=[0.1,0.2,0.3,0.4,0.5,0.6,0.7,0.8,0.9], figsize=(8,7))\n",
        "plt.xlabel(\"noise varaince\")\n",
        "plt.ylabel(\"NRMSE_train\")"
      ]
    },
    {
      "cell_type": "code",
      "execution_count": null,
      "metadata": {
        "colab": {
          "base_uri": "https://localhost:8080/",
          "height": 459
        },
        "id": "fq7eugJy6QA6",
        "outputId": "f93ea688-7490-4e84-93bb-e6dc1e3a0a7d"
      },
      "outputs": [
        {
          "data": {
            "text/plain": [
              "Text(0, 0.5, 'NRMSE_vald')"
            ]
          },
          "execution_count": 38,
          "metadata": {},
          "output_type": "execute_result"
        },
        {
          "data": {
            "image/png": "[encoded data removed]",
            "text/plain": [
              "<Figure size 576x504 with 1 Axes>"
            ]
          },
          "metadata": {},
          "output_type": "display_data"
        }
      ],
      "source": [
        "df_vald_c.boxplot(column=[0.1,0.2,0.3,0.4,0.5,0.6,0.7,0.8,0.9], figsize=(8,7))\n",
        "plt.xlabel(\"Noise variance\")\n",
        "plt.ylabel(\"NRMSE_vald\")"
      ]
    },
    {
      "cell_type": "code",
      "execution_count": null,
      "metadata": {
        "id": "KV-AN0jt64sW"
      },
      "outputs": [],
      "source": [
        "#13d\n",
        "noise_var_d=1.5\n",
        "n1= 1000\n",
        "dim_d=25\n",
        "np.random.seed(100)\n",
        "weights_exc_bias= np.random.rand(dim_d,1)\n",
        "weights_d = {}\n",
        "bias= np.linspace(0.9,40, num=10)\n",
        "for i in bias:\n",
        "  weights_d[i]= np.concatenate((weights_exc_bias,[[i]]))\n",
        "d_NRMSE_train_d= {}\n",
        "d_NRMSE_vald_d= {}\n",
        "for i in bias:\n",
        "    d_NRMSE_train_d[i] = None\n",
        "    d_NRMSE_vald_d[i]= None\n",
        "\n",
        "for j in bias:\n",
        "  NRMSE_train1= []\n",
        "  NRMSE_vald1= []\n",
        "  for i in range (9):\n",
        "    np.random.seed(i)\n",
        "    x = data_matrix(n1,dim_d)\n",
        "    t = generate_t(x,weights_d[j],noise_var_d)\n",
        "\n",
        "    x_train, x_vald, t_train, t_vald= train_test_split(x,t,test_size=0.3)\n",
        "    std_t_train= np.std(t_train)\n",
        "\n",
        "    arr1= est_weight_vector(x_train,t_train,lambda_)\n",
        "    w_est= arr1[0]\n",
        "\n",
        "    NRMSE_train= np.sqrt(arr1[1])/std_t_train\n",
        "    NRMSE_train1.append(NRMSE_train)\n",
        "   \n",
        "    std_t_vald= np.std(t_vald)\n",
        "\n",
        "    y_vald= lin_reg_y(x_vald,w_est)\n",
        "    mse_vald= mse_error(t_vald,y_vald)\n",
        "\n",
        "    NRMSE_vald= np.sqrt(mse_vald)/std_t_vald\n",
        "    NRMSE_vald1.append(NRMSE_vald)\n",
        "    \n",
        "  d_NRMSE_train_d[j]= NRMSE_train1\n",
        "  d_NRMSE_vald_d[j]= NRMSE_vald1\n",
        "\n",
        "\n"
      ]
    },
    {
      "cell_type": "code",
      "execution_count": null,
      "metadata": {
        "id": "v4FgxlMB65MB"
      },
      "outputs": [],
      "source": [
        "df_train_d= pd.DataFrame.from_dict(d_NRMSE_train_d)\n",
        "df_vald_d= pd.DataFrame.from_dict(d_NRMSE_vald_d)"
      ]
    },
    {
      "cell_type": "code",
      "execution_count": null,
      "metadata": {
        "colab": {
          "base_uri": "https://localhost:8080/",
          "height": 625
        },
        "id": "2JX-Xm3qEMOr",
        "outputId": "1408819a-b6f4-49a9-b7e9-a80a23a51d89"
      },
      "outputs": [
        {
          "data": {
            "text/plain": [
              "Text(0, 0.5, 'NRMSE_train')"
            ]
          },
          "execution_count": 43,
          "metadata": {},
          "output_type": "execute_result"
        },
        {
          "data": {
            "image/png": "[encoded data removed]",
            "text/plain": [
              "<Figure size 1008x720 with 1 Axes>"
            ]
          },
          "metadata": {},
          "output_type": "display_data"
        }
      ],
      "source": [
        "df_train_d.boxplot(figsize=(14,10))\n",
        "plt.xlabel(\"bias w0\")\n",
        "plt.ylabel(\"NRMSE_train\")"
      ]
    },
    {
      "cell_type": "code",
      "execution_count": null,
      "metadata": {
        "colab": {
          "base_uri": "https://localhost:8080/",
          "height": 623
        },
        "id": "jSEnEjVf1fjg",
        "outputId": "378ce030-742f-49d4-a801-ace3925602c9"
      },
      "outputs": [
        {
          "data": {
            "text/plain": [
              "Text(0, 0.5, 'NRMSE_vald')"
            ]
          },
          "execution_count": 44,
          "metadata": {},
          "output_type": "execute_result"
        },
        {
          "data": {
            "image/png": "[encoded data removed]",
            "text/plain": [
              "<Figure size 1008x720 with 1 Axes>"
            ]
          },
          "metadata": {},
          "output_type": "display_data"
        }
      ],
      "source": [
        "df_vald_d.boxplot(figsize=(14,10))\n",
        "plt.xlabel(\"bias w0\")\n",
        "plt.ylabel(\"NRMSE_vald\")"
      ]
    },
    {
      "cell_type": "code",
      "execution_count": null,
      "metadata": {
        "id": "ey6J3jY1-SJo"
      },
      "outputs": [],
      "source": [
        "#13e\n",
        "noise_var_e=0.9\n",
        "n1= 1000\n",
        "np.random.seed(100)\n",
        "dimc= 20\n",
        "weights_c= np.random.rand(dimc+1,1)\n",
        "lambda_2= np.linspace(0.01,0.1, num=10)\n",
        "d_NRMSE_train_e= {}\n",
        "d_NRMSE_vald_e= {}\n",
        "for i in lambda_2:\n",
        "    d_NRMSE_train_e[i] = None\n",
        "    d_NRMSE_vald_e[i]= None\n",
        "\n",
        "for j in lambda_2:\n",
        "  NRMSE_train1= []\n",
        "  NRMSE_vald1= []\n",
        "  for i in range (9):\n",
        "    np.random.seed(i)\n",
        "    x = data_matrix(n1,dimc)\n",
        "    t = generate_t(x,weights_c,j)\n",
        "    x_train, x_vald, t_train, t_vald= train_test_split(x,t,test_size=0.3)\n",
        "    std_t_train= np.std(t_train)\n",
        "    arr1= est_weight_vector(x_train,t_train,j)\n",
        "    w_est= arr1[0]\n",
        "\n",
        "    NRMSE_train= np.sqrt(arr1[1])/std_t_train\n",
        "    NRMSE_train1.append(NRMSE_train)\n",
        "   \n",
        "    std_t_vald= np.std(t_vald)\n",
        "\n",
        "    y_vald= lin_reg_y(x_vald,w_est)\n",
        "    mse_vald= mse_error(t_vald,y_vald)\n",
        "\n",
        "    NRMSE_vald= np.sqrt(mse_vald)/std_t_vald\n",
        "    NRMSE_vald1.append(NRMSE_vald)\n",
        "    \n",
        "  d_NRMSE_train_e[j]= NRMSE_train1\n",
        "  d_NRMSE_vald_e[j]= NRMSE_vald1"
      ]
    },
    {
      "cell_type": "code",
      "execution_count": null,
      "metadata": {
        "id": "lKvYukuh_Fsp"
      },
      "outputs": [],
      "source": [
        "df_train_e= pd.DataFrame.from_dict(d_NRMSE_train_e)\n",
        "df_vald_e= pd.DataFrame.from_dict(d_NRMSE_vald_e)"
      ]
    },
    {
      "cell_type": "code",
      "execution_count": null,
      "metadata": {
        "colab": {
          "base_uri": "https://localhost:8080/",
          "height": 623
        },
        "id": "fBlLVLlW_GPa",
        "outputId": "59d06229-6428-4dcc-c48e-e6698bd33fdb"
      },
      "outputs": [
        {
          "data": {
            "text/plain": [
              "Text(0, 0.5, 'NRMSE_train')"
            ]
          },
          "execution_count": 47,
          "metadata": {},
          "output_type": "execute_result"
        },
        {
          "data": {
            "image/png": "[encoded data removed]",
            "text/plain": [
              "<Figure size 1008x720 with 1 Axes>"
            ]
          },
          "metadata": {},
          "output_type": "display_data"
        }
      ],
      "source": [
        "df_train_e.boxplot(figsize=(14,10))\n",
        "plt.xlabel(\"Lambda2\")\n",
        "plt.ylabel(\"NRMSE_train\")"
      ]
    },
    {
      "cell_type": "code",
      "execution_count": null,
      "metadata": {
        "colab": {
          "base_uri": "https://localhost:8080/",
          "height": 623
        },
        "id": "S-OW2uh2_dqV",
        "outputId": "be56ead8-6981-46b2-bbf2-e3a259fcfb86"
      },
      "outputs": [
        {
          "data": {
            "text/plain": [
              "Text(0, 0.5, 'NRMSE_vald')"
            ]
          },
          "execution_count": 49,
          "metadata": {},
          "output_type": "execute_result"
        },
        {
          "data": {
            "image/png": "[encoded data removed]",
            "text/plain": [
              "<Figure size 1008x720 with 1 Axes>"
            ]
          },
          "metadata": {},
          "output_type": "display_data"
        }
      ],
      "source": [
        "df_vald_e.boxplot(figsize=(14,10))\n",
        "plt.xlabel(\"Lambda2\")\n",
        "plt.ylabel(\"NRMSE_vald\")"
      ]
    },
    {
      "cell_type": "code",
      "execution_count": null,
      "metadata": {
        "id": "8cr8I2qSMBui"
      },
      "outputs": [],
      "source": [
        "#13f\n",
        "begin = time.time()\n",
        "d= 20\n",
        "np.random.seed(50)\n",
        "weights= np.random.rand(d+1,1)\n",
        "w0= weights[d]\n",
        "noise_var=1.5\n",
        "\n",
        "n= [100,1000,10000,100000,1000000,10000000]\n",
        "time_taken = {}\n",
        "for i in n:\n",
        "  time_taken[i]= None\n",
        "d_NRMSE_train= {}\n",
        "d_NRMSE_vald= {}\n",
        "for i in n:\n",
        "    d_NRMSE_train[i] = None\n",
        "    d_NRMSE_vald[i]= None\n",
        "\n",
        "for num_samples in n:\n",
        "  begin = time.time()\n",
        "  NRMSE_train1= []\n",
        "  NRMSE_vald1= []\n",
        "  for i in range (9):\n",
        "    np.random.seed(i)\n",
        "    x = data_matrix(num_samples,d)\n",
        "    t = generate_t(x,weights,noise_var)\n",
        "    x_train, x_vald, t_train, t_vald= train_test_split(x,t,test_size=0.2,shuffle=True,random_state=8)\n",
        "    std_t_train= np.std(t_train)\n",
        "    arr1= est_weight_vector(x_train,t_train,lambda_)\n",
        "    w_est= arr1[0]\n",
        "\n",
        "    NRMSE_train= np.sqrt(arr1[1])/std_t_train\n",
        "    NRMSE_train1.append(NRMSE_train)\n",
        "\n",
        "    \n",
        "    std_t_vald= np.std(t_vald)\n",
        "\n",
        "    y_vald= lin_reg_y(x_vald,w_est)\n",
        "    mse_vald= mse_error(t_vald,y_vald)\n",
        "\n",
        "    NRMSE_vald= np.sqrt(mse_vald)/std_t_vald\n",
        "    NRMSE_vald1.append(NRMSE_vald)  \n",
        "  d_NRMSE_train[num_samples]= NRMSE_train1\n",
        "  d_NRMSE_vald[num_samples]= NRMSE_vald1\n",
        "  end = time.time()\n",
        "  time_taken[num_samples]= end- begin\n"
      ]
    },
    {
      "cell_type": "markdown",
      "metadata": {
        "id": "g-_gCI3PR0qN"
      },
      "source": [
        "My program got crashed when I gave num_samples = 10^8. no of samples= 10^8 is my breaking point\n"
      ]
    },
    {
      "cell_type": "code",
      "execution_count": null,
      "metadata": {
        "colab": {
          "base_uri": "https://localhost:8080/"
        },
        "id": "E8-_N5LNOHHw",
        "outputId": "39b517a5-98c3-495a-82df-8ec4b040cb75"
      },
      "outputs": [
        {
          "output_type": "execute_result",
          "data": {
            "text/plain": [
              "{100: 0.02389812469482422,\n",
              " 1000: 0.03012394905090332,\n",
              " 10000: 0.153245210647583,\n",
              " 100000: 1.467712163925171,\n",
              " 1000000: 15.417747259140015,\n",
              " 10000000: 116.52607488632202}"
            ]
          },
          "metadata": {},
          "execution_count": 13
        }
      ],
      "source": [
        "time_taken"
      ]
    },
    {
      "cell_type": "code",
      "source": [],
      "metadata": {
        "id": "cU_ZT2VymwvL"
      },
      "execution_count": null,
      "outputs": []
    },
    {
      "cell_type": "code",
      "execution_count": null,
      "metadata": {
        "id": "GVoJY9XxSpto"
      },
      "outputs": [],
      "source": [
        "#13f\n",
        "noise_var= 1.5\n",
        "dim =[100,1000,10000,100000]\n",
        "time_taken2 = {}\n",
        "for i in dim:\n",
        "  time_taken2[i]= None\n",
        "d_weights={}\n",
        "for j in dim:\n",
        "  np.random.seed(j)\n",
        "  d_weights[j]=np.random.rand(j+1,1)\n",
        "n1= 1000\n",
        "d_NRMSE_train_b= {}\n",
        "d_NRMSE_vald_b= {}\n",
        "for i in dim:\n",
        "    d_NRMSE_train_b[i] = None\n",
        "    d_NRMSE_vald_b[i]= None\n",
        "\n",
        "for j in dim:\n",
        "  begin= time.time()\n",
        "  NRMSE_train1= []\n",
        "  NRMSE_vald1= []\n",
        "  for i in range (9):\n",
        "    np.random.seed(i)\n",
        "    x = data_matrix(n1,j)\n",
        "    t = generate_t(x,d_weights[j],noise_var)\n",
        "    x_train, x_vald, t_train, t_vald= train_test_split(x,t,test_size=0.3)\n",
        "    std_t_train= np.std(t_train)\n",
        "    arr1= est_weight_vector(x_train,t_train,lambda_)\n",
        "    w_est= arr1[0]\n",
        "    \n",
        "    NRMSE_train= np.sqrt(arr1[1])/std_t_train\n",
        "    NRMSE_train1.append(NRMSE_train)\n",
        "   \n",
        "    std_t_vald= np.std(t_vald)\n",
        "\n",
        "    y_vald= lin_reg_y(x_vald,w_est)\n",
        "    mse_vald= mse_error(t_vald,y_vald)\n",
        "\n",
        "    NRMSE_vald= np.sqrt(mse_vald)/std_t_vald\n",
        "    NRMSE_vald1.append(NRMSE_vald)\n",
        " \n",
        "  d_NRMSE_train_b[j]= NRMSE_train1\n",
        "  d_NRMSE_vald_b[j]= NRMSE_vald1\n",
        "  end= time.time()\n",
        "  time_taken2[j]= end- begin "
      ]
    },
    {
      "cell_type": "markdown",
      "source": [
        "10^ no of variables is my breaking point"
      ],
      "metadata": {
        "id": "W2AZyqCBkWvC"
      }
    },
    {
      "cell_type": "code",
      "source": [],
      "metadata": {
        "id": "eM5Adk7GkU_6"
      },
      "execution_count": null,
      "outputs": []
    },
    {
      "cell_type": "code",
      "execution_count": null,
      "metadata": {
        "id": "roN4YCVj_kLc"
      },
      "outputs": [],
      "source": [
        "#13g\n",
        "noise_var_e=0.9\n",
        "eta=0.5\n",
        "min_change_NRMSE=0.3\n",
        "lambda1=0.01\n",
        "lambda2=0.02\n",
        "max_iterat= [10,100,1000,100000,1000000]\n",
        "\n",
        "n1= 1000\n",
        "np.random.seed(100)\n",
        "dimc= 20\n",
        "weights_c= np.random.rand(dimc+1,1)\n",
        "d_NRMSE_train_g= {}\n",
        "d_NRMSE_vald_g= {}\n",
        "for i in max_iterat:\n",
        "    d_NRMSE_train_g[i] = None\n",
        "    d_NRMSE_vald_g[i]= None\n",
        "\n",
        "for j in max_iterat:\n",
        "  NRMSE_train1= []\n",
        "  NRMSE_vald1= []\n",
        "  for i in range (9):\n",
        "    np.random.seed(i)\n",
        "    x = data_matrix(n1,dimc)\n",
        "    t = generate_t(x,weights_c,lambda_)\n",
        "    x_train, x_vald, t_train, t_vald= train_test_split(x,t,test_size=0.3)\n",
        "    std_t_train= np.std(t_train)\n",
        "    arr2= grad_descent(x_train,t_train,eta,j,min_change_NRMSE,lambda2,lambda1)\n",
        "    upd_w= arr2[0]\n",
        "    NRMSE_train= arr2[1]\n",
        "    NRMSE_train1.append(NRMSE_train)\n",
        "   \n",
        "    std_t_vald= np.std(t_vald)\n",
        "    y_vald= lin_reg_y(x_vald,upd_w)\n",
        "    mse_vald= mse_error(t_vald,y_vald)\n",
        "\n",
        "    NRMSE_vald= np.sqrt(mse_vald)/std_t_vald\n",
        "    NRMSE_vald1.append(NRMSE_vald)\n",
        "    \n",
        "  d_NRMSE_train_g[j]= NRMSE_train1\n",
        "  d_NRMSE_vald_g[j]= NRMSE_vald1"
      ]
    },
    {
      "cell_type": "code",
      "execution_count": null,
      "metadata": {
        "id": "XZp_heJoCQLs"
      },
      "outputs": [],
      "source": [
        "df_train_g= pd.DataFrame.from_dict(d_NRMSE_train_g)\n",
        "df_vald_g= pd.DataFrame.from_dict(d_NRMSE_vald_g)"
      ]
    },
    {
      "cell_type": "code",
      "execution_count": null,
      "metadata": {
        "colab": {
          "base_uri": "https://localhost:8080/",
          "height": 282
        },
        "id": "JCBYwHrwCl4O",
        "outputId": "bfdc01de-7d56-41c9-aa5c-08f9500e59fa"
      },
      "outputs": [
        {
          "output_type": "execute_result",
          "data": {
            "text/plain": [
              "<matplotlib.axes._subplots.AxesSubplot at 0x7fa6d0b8a850>"
            ]
          },
          "metadata": {},
          "execution_count": 31
        },
        {
          "output_type": "display_data",
          "data": {
            "text/plain": [
              "<Figure size 432x288 with 1 Axes>"
            ],
            "image/png": "[encoded data removed]"
          },
          "metadata": {
            "needs_background": "light"
          }
        }
      ],
      "source": [
        "df_vald_g.boxplot()"
      ]
    },
    {
      "cell_type": "code",
      "execution_count": null,
      "metadata": {
        "id": "q964Dp3ZCxZh"
      },
      "outputs": [],
      "source": [
        "#13h\n",
        "noise_var_e=0.9\n",
        "eta_= np.linspace(0.1,1, num=10)\n",
        "min_change_NRMSE=0.1\n",
        "lambda1=0.01\n",
        "lambda2=0.02\n",
        "max_iterat= 100\n",
        "\n",
        "n1= 1000\n",
        "np.random.seed(100)\n",
        "dimc= 20\n",
        "weights_c= np.random.rand(dimc+1,1)\n",
        "d_NRMSE_train_h= {}\n",
        "d_NRMSE_vald_h= {}\n",
        "for i in eta_:\n",
        "    d_NRMSE_train_h[i] = None\n",
        "    d_NRMSE_vald_h[i]= None\n",
        "\n",
        "for j in eta_:\n",
        "  NRMSE_train1= []\n",
        "  NRMSE_vald1= []\n",
        "  for i in range (9):\n",
        "    np.random.seed(i)\n",
        "    x = data_matrix(n1,dimc)\n",
        "    t = generate_t(x,weights_c,lambda_)\n",
        "    x_train, x_vald, t_train, t_vald= train_test_split(x,t,test_size=0.3)\n",
        "    std_t_train= np.std(t_train)\n",
        "    arr2= grad_descent(x_train,t_train,j,max_iterat,min_change_NRMSE,lambda2=0,lambda1=0)\n",
        "    upd_w= arr2[0]\n",
        "    NRMSE_train= arr2[1]\n",
        "    NRMSE_train1.append(NRMSE_train)\n",
        "   \n",
        "    std_t_vald= np.std(t_vald)\n",
        "    y_vald= lin_reg_y(x_vald,upd_w)\n",
        "    mse_vald= mse_error(t_vald,y_vald)\n",
        "\n",
        "    NRMSE_vald= np.sqrt(mse_vald)/std_t_vald\n",
        "    NRMSE_vald1.append(NRMSE_vald)\n",
        "    \n",
        "  d_NRMSE_train_h[j]= NRMSE_train1\n",
        "  d_NRMSE_vald_h[j]= NRMSE_vald1"
      ]
    },
    {
      "cell_type": "code",
      "execution_count": null,
      "metadata": {
        "id": "_Rq5LM86I_g2"
      },
      "outputs": [],
      "source": [
        "df_train_h= pd.DataFrame.from_dict(d_NRMSE_train_h)\n",
        "df_vald_h= pd.DataFrame.from_dict(d_NRMSE_vald_h)"
      ]
    },
    {
      "cell_type": "code",
      "execution_count": null,
      "metadata": {
        "colab": {
          "base_uri": "https://localhost:8080/",
          "height": 282
        },
        "id": "WXNJ_36FJVw6",
        "outputId": "5ee9395f-ecef-4fe4-fc0e-534b6265c55c"
      },
      "outputs": [
        {
          "data": {
            "text/plain": [
              "<matplotlib.axes._subplots.AxesSubplot at 0x7f7d6a305520>"
            ]
          },
          "execution_count": 229,
          "metadata": {},
          "output_type": "execute_result"
        },
        {
          "data": {
            "image/png": "[encoded data removed]",
            "text/plain": [
              "<Figure size 432x288 with 1 Axes>"
            ]
          },
          "metadata": {},
          "output_type": "display_data"
        }
      ],
      "source": [
        "df_train_h.boxplot()"
      ]
    },
    {
      "cell_type": "code",
      "execution_count": null,
      "metadata": {
        "colab": {
          "base_uri": "https://localhost:8080/",
          "height": 282
        },
        "id": "t8GpC6HLJZSd",
        "outputId": "25894c4e-c674-4a45-ce81-cbc99c0123f0"
      },
      "outputs": [
        {
          "data": {
            "text/plain": [
              "<matplotlib.axes._subplots.AxesSubplot at 0x7f7d69e63730>"
            ]
          },
          "execution_count": 230,
          "metadata": {},
          "output_type": "execute_result"
        },
        {
          "data": {
            "image/png": "[encoded data removed]",
            "text/plain": [
              "<Figure size 432x288 with 1 Axes>"
            ]
          },
          "metadata": {},
          "output_type": "display_data"
        }
      ],
      "source": [
        "df_vald_h.boxplot()"
      ]
    },
    {
      "cell_type": "code",
      "execution_count": null,
      "metadata": {
        "id": "mi7M0EHCJgO8"
      },
      "outputs": [],
      "source": [
        "#13k\n",
        "noise_var_e=0.9\n",
        "eta_= 0.1\n",
        "min_change_NRMSE=0.1\n",
        "lambda1=0.01\n",
        "lambda2_= np.linspace(0.001,0.05,num=10)\n",
        "max_iterat= 100\n",
        "\n",
        "n1= 1000\n",
        "np.random.seed(100)\n",
        "dimc= 20\n",
        "weights_c= np.random.rand(dimc+1,1)\n",
        "d_NRMSE_train_k= {}\n",
        "d_NRMSE_vald_k= {}\n",
        "for i in lambda2_:\n",
        "    d_NRMSE_train_k[i] = None\n",
        "    d_NRMSE_vald_k[i]= None\n",
        "\n",
        "for j in lambda2_:\n",
        "  NRMSE_train1= []\n",
        "  NRMSE_vald1= []\n",
        "  for i in range (9):\n",
        "    np.random.seed(i)\n",
        "    x = data_matrix(n1,dimc)\n",
        "    t = generate_t(x,weights_c,lambda_)\n",
        "    x_train, x_vald, t_train, t_vald= train_test_split(x,t,test_size=0.3)\n",
        "    std_t_train= np.std(t_train)\n",
        "    arr2= grad_descent(x_train,t_train,eta_,max_iterat,min_change_NRMSE,j,lambda1)\n",
        "    upd_w= arr2[0]\n",
        "    NRMSE_train= arr2[1]\n",
        "    NRMSE_train1.append(NRMSE_train)\n",
        "   \n",
        "    std_t_vald= np.std(t_vald)\n",
        "    y_vald= lin_reg_y(x_vald,upd_w)\n",
        "    mse_vald= mse_error(t_vald,y_vald)\n",
        "\n",
        "    NRMSE_vald= np.sqrt(mse_vald)/std_t_vald\n",
        "    NRMSE_vald1.append(NRMSE_vald)\n",
        "    \n",
        "  d_NRMSE_train_k[j]= NRMSE_train1\n",
        "  d_NRMSE_vald_k[j]= NRMSE_vald1"
      ]
    },
    {
      "cell_type": "code",
      "source": [
        "df_train_k= pd.DataFrame.from_dict(d_NRMSE_train_k)\n",
        "df_vald_k= pd.DataFrame.from_dict(d_NRMSE_vald_k)"
      ],
      "metadata": {
        "id": "V0p0_FOugAq3"
      },
      "execution_count": null,
      "outputs": []
    },
    {
      "cell_type": "code",
      "source": [
        "df_train_k.boxplot()"
      ],
      "metadata": {
        "colab": {
          "base_uri": "https://localhost:8080/",
          "height": 282
        },
        "id": "dwngKf_HgA7l",
        "outputId": "a7b79f68-d8c9-469e-d0f4-89a8ec682757"
      },
      "execution_count": null,
      "outputs": [
        {
          "output_type": "execute_result",
          "data": {
            "text/plain": [
              "<matplotlib.axes._subplots.AxesSubplot at 0x7f71eb44a3d0>"
            ]
          },
          "metadata": {},
          "execution_count": 33
        },
        {
          "output_type": "display_data",
          "data": {
            "text/plain": [
              "<Figure size 432x288 with 1 Axes>"
            ],
            "image/png": "[encoded data removed]"
          },
          "metadata": {
            "needs_background": "light"
          }
        }
      ]
    },
    {
      "cell_type": "code",
      "source": [
        "df_vald_k.boxplot()"
      ],
      "metadata": {
        "colab": {
          "base_uri": "https://localhost:8080/",
          "height": 282
        },
        "id": "XfWukJ6shs_j",
        "outputId": "a804a26f-3328-465d-abe0-6ffe32e6b25a"
      },
      "execution_count": null,
      "outputs": [
        {
          "output_type": "execute_result",
          "data": {
            "text/plain": [
              "<matplotlib.axes._subplots.AxesSubplot at 0x7f71ecca7280>"
            ]
          },
          "metadata": {},
          "execution_count": 30
        },
        {
          "output_type": "display_data",
          "data": {
            "text/plain": [
              "<Figure size 432x288 with 1 Axes>"
            ],
            "image/png": "[encoded data removed]"
          },
          "metadata": {
            "needs_background": "light"
          }
        }
      ]
    },
    {
      "cell_type": "code",
      "source": [
        "#13l\n",
        "noise_var_e=0.9\n",
        "eta_= 0.1\n",
        "min_change_NRMSE=0.1\n",
        "lambda2=0.01\n",
        "lambda1_= np.linspace(0.001,0.05,num=10)\n",
        "max_iterat= 100\n",
        "\n",
        "n1= 1000\n",
        "np.random.seed(100)\n",
        "dimc= 20\n",
        "weights_c= np.random.rand(dimc+1,1)\n",
        "d_NRMSE_train_l= {}\n",
        "d_NRMSE_vald_l= {}\n",
        "for i in lambda1_:\n",
        "    d_NRMSE_train_l[i] = None\n",
        "    d_NRMSE_vald_l[i]= None\n",
        "\n",
        "for j in lambda1_:\n",
        "  NRMSE_train1= []\n",
        "  NRMSE_vald1= []\n",
        "  for i in range (9):\n",
        "    np.random.seed(i)\n",
        "    x = data_matrix(n1,dimc)\n",
        "    t = generate_t(x,weights_c,lambda_)\n",
        "    x_train, x_vald, t_train, t_vald= train_test_split(x,t,test_size=0.3)\n",
        "    std_t_train= np.std(t_train)\n",
        "    arr2= grad_descent(x_train,t_train,eta_,max_iterat,min_change_NRMSE,lambda2,j)\n",
        "    upd_w= arr2[0]\n",
        "    NRMSE_train= arr2[1]\n",
        "    NRMSE_train1.append(NRMSE_train)\n",
        "   \n",
        "    std_t_vald= np.std(t_vald)\n",
        "    y_vald= lin_reg_y(x_vald,upd_w)\n",
        "    mse_vald= mse_error(t_vald,y_vald)\n",
        "\n",
        "    NRMSE_vald= np.sqrt(mse_vald)/std_t_vald\n",
        "    NRMSE_vald1.append(NRMSE_vald)\n",
        "    \n",
        "  d_NRMSE_train_l[j]= NRMSE_train1\n",
        "  d_NRMSE_vald_l[j]= NRMSE_vald1"
      ],
      "metadata": {
        "id": "vwBTuoIvh1Ri"
      },
      "execution_count": null,
      "outputs": []
    },
    {
      "cell_type": "code",
      "source": [
        "df_train_l= pd.DataFrame.from_dict(d_NRMSE_train_l)\n",
        "df_vald_l= pd.DataFrame.from_dict(d_NRMSE_vald_l)"
      ],
      "metadata": {
        "id": "eXStAZI_h1ul"
      },
      "execution_count": null,
      "outputs": []
    },
    {
      "cell_type": "code",
      "source": [
        "df_train_l.boxplot()"
      ],
      "metadata": {
        "colab": {
          "base_uri": "https://localhost:8080/",
          "height": 282
        },
        "id": "A_hUveBqh2Fd",
        "outputId": "9e76a597-5a98-48e9-c9e0-1adc21a9f0b0"
      },
      "execution_count": null,
      "outputs": [
        {
          "output_type": "execute_result",
          "data": {
            "text/plain": [
              "<matplotlib.axes._subplots.AxesSubplot at 0x7f71eb2fa6d0>"
            ]
          },
          "metadata": {},
          "execution_count": 36
        },
        {
          "output_type": "display_data",
          "data": {
            "text/plain": [
              "<Figure size 432x288 with 1 Axes>"
            ],
            "image/png": "[encoded data removed]"
          },
          "metadata": {
            "needs_background": "light"
          }
        }
      ]
    },
    {
      "cell_type": "code",
      "source": [
        "df_vald_l.boxplot()"
      ],
      "metadata": {
        "colab": {
          "base_uri": "https://localhost:8080/",
          "height": 282
        },
        "id": "NbS5A1v6iiiy",
        "outputId": "0a4c51f0-d66a-4453-9a14-63ed708a53dc"
      },
      "execution_count": null,
      "outputs": [
        {
          "output_type": "execute_result",
          "data": {
            "text/plain": [
              "<matplotlib.axes._subplots.AxesSubplot at 0x7f71eb222580>"
            ]
          },
          "metadata": {},
          "execution_count": 37
        },
        {
          "output_type": "display_data",
          "data": {
            "text/plain": [
              "<Figure size 432x288 with 1 Axes>"
            ],
            "image/png": "[encoded data removed]"
          },
          "metadata": {
            "needs_background": "light"
          }
        }
      ]
    },
    {
      "cell_type": "code",
      "source": [
        "#13m\n",
        "lambda2=0.01  #my optimal lambda 2\n",
        "noise_variance=[0.1,0.2,0.3,0.4,0.5,0.6,0.7,0.8,0.9]\n",
        "n1= 1000\n",
        "np.random.seed(100)\n",
        "dimc= 20\n",
        "weights_c= np.random.rand(dimc+1,1)\n",
        "d_NRMSE_train_m= {}\n",
        "d_NRMSE_vald_m= {}\n",
        "for i in noise_variance:\n",
        "    d_NRMSE_train_m[i] = None\n",
        "    d_NRMSE_vald_m[i]= None\n",
        "\n",
        "for j in noise_variance:\n",
        "  NRMSE_train1= []\n",
        "  NRMSE_vald1= []\n",
        "  for i in range (9):\n",
        "    np.random.seed(i)\n",
        "    x = data_matrix(n1,dimc)\n",
        "    t = generate_t(x,weights_c,j)\n",
        "    x_train, x_vald, t_train, t_vald= train_test_split(x,t,test_size=0.3)\n",
        "    std_t_train= np.std(t_train)\n",
        "    arr2= grad_descent(x_train,t_train,eta_,max_iterat,min_change_NRMSE,lambda2)\n",
        "    upd_w= arr2[0]\n",
        "    NRMSE_train= arr2[1]\n",
        "    NRMSE_train1.append(NRMSE_train)\n",
        "   \n",
        "    std_t_vald= np.std(t_vald)\n",
        "    y_vald= lin_reg_y(x_vald,upd_w)\n",
        "    mse_vald= mse_error(t_vald,y_vald)\n",
        "\n",
        "    NRMSE_vald= np.sqrt(mse_vald)/std_t_vald\n",
        "    NRMSE_vald1.append(NRMSE_vald)\n",
        "    \n",
        "  d_NRMSE_train_m[j]= NRMSE_train1\n",
        "  d_NRMSE_vald_m[j]= NRMSE_vald1"
      ],
      "metadata": {
        "id": "5epdgq8MilNt"
      },
      "execution_count": null,
      "outputs": []
    },
    {
      "cell_type": "code",
      "source": [
        "df_train_m= pd.DataFrame.from_dict(d_NRMSE_train_m)\n",
        "df_vald_m = pd.DataFrame.from_dict(d_NRMSE_vald_m)"
      ],
      "metadata": {
        "id": "OPoNzNfgil4z"
      },
      "execution_count": null,
      "outputs": []
    },
    {
      "cell_type": "code",
      "source": [
        "df_train_m.boxplot()"
      ],
      "metadata": {
        "colab": {
          "base_uri": "https://localhost:8080/",
          "height": 282
        },
        "id": "SriytfgYimMb",
        "outputId": "e8c0b8f2-52b6-4e5b-d515-bce60ae773f9"
      },
      "execution_count": null,
      "outputs": [
        {
          "output_type": "execute_result",
          "data": {
            "text/plain": [
              "<matplotlib.axes._subplots.AxesSubplot at 0x7f71eb0bcc40>"
            ]
          },
          "metadata": {},
          "execution_count": 40
        },
        {
          "output_type": "display_data",
          "data": {
            "text/plain": [
              "<Figure size 432x288 with 1 Axes>"
            ],
            "image/png": "[encoded data removed]"
          },
          "metadata": {
            "needs_background": "light"
          }
        }
      ]
    },
    {
      "cell_type": "code",
      "source": [
        "df_vald_m.boxplot()"
      ],
      "metadata": {
        "colab": {
          "base_uri": "https://localhost:8080/",
          "height": 282
        },
        "id": "88DIm9sXimmA",
        "outputId": "f4ed5053-e7da-4977-a7a3-83eac2466aa4"
      },
      "execution_count": null,
      "outputs": [
        {
          "output_type": "execute_result",
          "data": {
            "text/plain": [
              "<matplotlib.axes._subplots.AxesSubplot at 0x7f71ecc91ee0>"
            ]
          },
          "metadata": {},
          "execution_count": 41
        },
        {
          "output_type": "display_data",
          "data": {
            "text/plain": [
              "<Figure size 432x288 with 1 Axes>"
            ],
            "image/png": "[encoded data removed]"
          },
          "metadata": {
            "needs_background": "light"
          }
        }
      ]
    },
    {
      "cell_type": "code",
      "source": [
        "#13n\n",
        "lambda1=0.01  #my optimal lambda1\n",
        "noise_variance=[0.1,0.2,0.3,0.4,0.5,0.6,0.7,0.8,0.9]\n",
        "n1= 1000\n",
        "np.random.seed(100)\n",
        "dimc= 20\n",
        "weights_c= np.random.rand(dimc+1,1)\n",
        "d_NRMSE_train_n= {}\n",
        "d_NRMSE_vald_n= {}\n",
        "for i in noise_variance:\n",
        "    d_NRMSE_train_n[i] = None\n",
        "    d_NRMSE_vald_n[i]= None\n",
        "\n",
        "for j in noise_variance:\n",
        "  NRMSE_train1= []\n",
        "  NRMSE_vald1= []\n",
        "  for i in range (9):\n",
        "    np.random.seed(i)\n",
        "    x = data_matrix(n1,dimc)\n",
        "    t = generate_t(x,weights_c,j)\n",
        "    x_train, x_vald, t_train, t_vald= train_test_split(x,t,test_size=0.3)\n",
        "    std_t_train= np.std(t_train)\n",
        "    arr2= grad_descent(x_train,t_train,eta_,max_iterat,min_change_NRMSE,lambda2=0,lambda1=0.01)\n",
        "    upd_w= arr2[0]\n",
        "    NRMSE_train= arr2[1]\n",
        "    NRMSE_train1.append(NRMSE_train)\n",
        "   \n",
        "    std_t_vald= np.std(t_vald)\n",
        "    y_vald= lin_reg_y(x_vald,upd_w)\n",
        "    mse_vald= mse_error(t_vald,y_vald)\n",
        "\n",
        "    NRMSE_vald= np.sqrt(mse_vald)/std_t_vald\n",
        "    NRMSE_vald1.append(NRMSE_vald)\n",
        "    \n",
        "  d_NRMSE_train_n[j]= NRMSE_train1\n",
        "  d_NRMSE_vald_n[j]= NRMSE_vald1"
      ],
      "metadata": {
        "id": "cKwPOP-wip0O"
      },
      "execution_count": null,
      "outputs": []
    },
    {
      "cell_type": "code",
      "source": [
        "df_train_n= pd.DataFrame.from_dict(d_NRMSE_train_n)\n",
        "df_vald_n = pd.DataFrame.from_dict(d_NRMSE_vald_n)"
      ],
      "metadata": {
        "id": "RfBkubxtiqXK"
      },
      "execution_count": null,
      "outputs": []
    },
    {
      "cell_type": "code",
      "source": [
        "df_train_n.boxplot()"
      ],
      "metadata": {
        "colab": {
          "base_uri": "https://localhost:8080/",
          "height": 282
        },
        "id": "Ixb_s8DkirBF",
        "outputId": "54736f14-c3c9-423f-dcb3-d9745969a72d"
      },
      "execution_count": null,
      "outputs": [
        {
          "output_type": "execute_result",
          "data": {
            "text/plain": [
              "<matplotlib.axes._subplots.AxesSubplot at 0x7f71eaecf970>"
            ]
          },
          "metadata": {},
          "execution_count": 44
        },
        {
          "output_type": "display_data",
          "data": {
            "text/plain": [
              "<Figure size 432x288 with 1 Axes>"
            ],
            "image/png": "[encoded data removed]"
          },
          "metadata": {
            "needs_background": "light"
          }
        }
      ]
    },
    {
      "cell_type": "code",
      "source": [
        "df_vald_n.boxplot()"
      ],
      "metadata": {
        "colab": {
          "base_uri": "https://localhost:8080/",
          "height": 282
        },
        "id": "5NP8aInWlc7X",
        "outputId": "d0d036fb-fc97-456a-c433-effcf0e4558d"
      },
      "execution_count": null,
      "outputs": [
        {
          "output_type": "execute_result",
          "data": {
            "text/plain": [
              "<matplotlib.axes._subplots.AxesSubplot at 0x7f71eadd9b50>"
            ]
          },
          "metadata": {},
          "execution_count": 45
        },
        {
          "output_type": "display_data",
          "data": {
            "text/plain": [
              "<Figure size 432x288 with 1 Axes>"
            ],
            "image/png": "[encoded data removed]"
          },
          "metadata": {
            "needs_background": "light"
          }
        }
      ]
    },
    {
      "cell_type": "markdown",
      "source": [
        "QUESTION 14\n",
        "my learning points of this assignment include:\n",
        "1. calculating NRMSE value by using pseudo inverse method by taking different number of samples and different variables\n",
        "2. Calculating NRMSE value by using gradient descent method by varying the maximum iterations, eta value, lambda1 and lambda2\n",
        "3.How to practically do the linear regression\n",
        "4. comparing the data by plotting the box plots\n",
        "5. How to code good and efficient use of functions\n"
      ],
      "metadata": {
        "id": "dyTT1jC2yi2K"
      }
    },
    {
      "cell_type": "markdown",
      "source": [
        "QUESTION 15\n",
        "my refferences\n",
        "1. used geeks for geeks and numpy official documentation for python( for functions and matplotlib)\n",
        "the people with whom I discussed\n",
        "1. Subbu Srikantam(roll no: 200260054)- discussed the 11th question for the formula of updated weights\n",
        "2. Abhishek anand(roll no: 200260002)- discussed the 13a part about how to do training and validation"
      ],
      "metadata": {
        "id": "_H1Ed-KQyjN_"
      }
    }
  ],
  "metadata": {
    "colab": {
      "provenance": []
    },
    "kernelspec": {
      "display_name": "Python 3",
      "name": "python3"
    },
    "language_info": {
      "name": "python"
    }
  },
  "nbformat": 4,
  "nbformat_minor": 0
}